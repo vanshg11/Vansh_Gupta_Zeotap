{
  "nbformat": 4,
  "nbformat_minor": 0,
  "metadata": {
    "colab": {
      "provenance": [],
      "gpuType": "T4",
      "authorship_tag": "ABX9TyNBMZqVcY4mzu7B9Jp0XFj/",
      "include_colab_link": true
    },
    "kernelspec": {
      "name": "python3",
      "display_name": "Python 3"
    },
    "language_info": {
      "name": "python"
    },
    "accelerator": "GPU"
  },
  "cells": [
    {
      "cell_type": "markdown",
      "metadata": {
        "id": "view-in-github",
        "colab_type": "text"
      },
      "source": [
        "<a href=\"https://colab.research.google.com/github/vanshg11/Vansh_Gupta_Zeotap/blob/main/Vansh_Gupta_Lookalike.ipynb\" target=\"_parent\"><img src=\"https://colab.research.google.com/assets/colab-badge.svg\" alt=\"Open In Colab\"/></a>"
      ]
    },
    {
      "cell_type": "code",
      "execution_count": 1,
      "metadata": {
        "id": "VEiiaDUAj4Cq"
      },
      "outputs": [],
      "source": [
        "import pandas as pd\n",
        "from sklearn.metrics.pairwise import cosine_similarity\n",
        "from sklearn.preprocessing import OneHotEncoder, MinMaxScaler\n",
        "import numpy as np"
      ]
    },
    {
      "cell_type": "code",
      "source": [
        "customers = pd.read_csv('Customers_Zeotap.csv')\n",
        "transactions = pd.read_csv('Transactions_Zeotap.csv')\n",
        "products = pd.read_csv('Products_Zeotap.csv')"
      ],
      "metadata": {
        "id": "Y1LdqljmkQWO"
      },
      "execution_count": 2,
      "outputs": []
    },
    {
      "cell_type": "code",
      "source": [
        "transactions_products = transactions.merge(products, on='ProductID')"
      ],
      "metadata": {
        "id": "iT3wMynwkV0G"
      },
      "execution_count": 3,
      "outputs": []
    },
    {
      "cell_type": "code",
      "source": [
        "category_spending = transactions_products.groupby(['CustomerID', 'Category'])['TotalValue'].sum().reset_index()\n",
        "\n",
        "\n",
        "category_features = category_spending.pivot(index='CustomerID', columns='Category', values='TotalValue').fillna(0)\n",
        "customer_transactions = transactions.groupby('CustomerID').agg({\n",
        "    'TotalValue': 'sum',\n",
        "    'Quantity': 'sum'\n",
        "}).reset_index()\n",
        "\n",
        "customer_data = customers.merge(customer_transactions, on='CustomerID', how='left').fillna(0)\n",
        "\n",
        "# Merged category spending data with customer data\n",
        "customer_data = customer_data.merge(category_features, on='CustomerID', how='left').fillna(0)"
      ],
      "metadata": {
        "id": "_nVgqyxBkXFC"
      },
      "execution_count": 4,
      "outputs": []
    },
    {
      "cell_type": "code",
      "source": [
        "encoder = OneHotEncoder(sparse_output=False)\n",
        "region_encoded = encoder.fit_transform(customer_data[['Region']])\n",
        "region_encoded_df = pd.DataFrame(region_encoded, columns=encoder.get_feature_names_out(['Region']))\n",
        "\n",
        "\n",
        "numerical_features = customer_data[['TotalValue', 'Quantity']]\n",
        "product_category_features = customer_data[category_features.columns]\n",
        "features = pd.concat([numerical_features, region_encoded_df, product_category_features], axis=1)\n",
        "\n",
        "\n",
        "scaler = MinMaxScaler()\n",
        "features_scaled = scaler.fit_transform(features)\n",
        "\n",
        "\n",
        "similarity_matrix = cosine_similarity(features_scaled)\n",
        "\n",
        "# ExtractED the first 20 customers\n",
        "customer_ids = customer_data['CustomerID'].values[:20]\n",
        "lookalike_results = {}\n",
        "\n",
        "\n",
        "for idx, customer_id in enumerate(customer_ids):\n",
        "    similar_indices = np.argsort(similarity_matrix[idx])[::-1][1:4]\n",
        "    similar_customers = customer_data['CustomerID'].values[similar_indices]\n",
        "    similarity_scores = similarity_matrix[idx][similar_indices]\n",
        "    lookalike_results[customer_id] = list(zip(similar_customers, similarity_scores))\n",
        "\n",
        "\n",
        "lookalike_df = pd.DataFrame([\n",
        "    {'CustomerID': cust_id, 'Lookalikes': lookalike_results[cust_id]}\n",
        "    for cust_id in lookalike_results\n",
        "])\n",
        "\n",
        "lookalike_df.to_csv('Vansh_Gupta_Lookalike.csv', index=False)\n",
        "print(\"Lookalike model results saved to 'Vansh_Gupta_Lookalike.csv'\")"
      ],
      "metadata": {
        "colab": {
          "base_uri": "https://localhost:8080/"
        },
        "id": "jPCohQVZkZOQ",
        "outputId": "81c32e5d-2e62-462c-f4a2-efbee13a2912"
      },
      "execution_count": 5,
      "outputs": [
        {
          "output_type": "stream",
          "name": "stdout",
          "text": [
            "Lookalike model results saved to 'Vansh_Gupta_Lookalike.csv'\n"
          ]
        }
      ]
    }
  ]
}